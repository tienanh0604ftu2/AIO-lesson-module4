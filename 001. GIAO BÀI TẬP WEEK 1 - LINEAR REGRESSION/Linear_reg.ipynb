{
  "nbformat": 4,
  "nbformat_minor": 0,
  "metadata": {
    "colab": {
      "provenance": [],
      "toc_visible": true
    },
    "kernelspec": {
      "name": "python3",
      "display_name": "Python 3"
    },
    "language_info": {
      "name": "python"
    }
  },
  "cells": [
    {
      "cell_type": "markdown",
      "source": [
        "# Đọc và xử lý dữ liệu"
      ],
      "metadata": {
        "id": "2LISlHFHMwle"
      }
    },
    {
      "cell_type": "code",
      "source": [
        "import pandas as pd\n",
        "import numpy as np\n",
        "import matplotlib.pyplot as plt\n",
        "import seaborn as sns\n",
        "import random"
      ],
      "metadata": {
        "id": "ow5hkywlMzHg"
      },
      "execution_count": 1,
      "outputs": []
    },
    {
      "cell_type": "code",
      "source": [
        "def get_column(data, index):\n",
        "    # Lấy ra một cột từ data với chỉ mục cho trước\n",
        "    result = [row[index] for row in data]\n",
        "    return result\n",
        "\n",
        "def prepare_data(file_name_dataset):\n",
        "    # Đọc dữ liệu từ file CSV và chuyển đổi thành dạng danh sách\n",
        "    data = np.genfromtxt(file_name_dataset, delimiter=',', skip_header=1).tolist()\n",
        "\n",
        "    # Lấy dữ liệu cho TV (index = 0)\n",
        "    tv_data = get_column(data, 0)\n",
        "\n",
        "    # Lấy dữ liệu cho Radio (index = 1)\n",
        "    radio_data = get_column(data, 1)\n",
        "\n",
        "    # Lấy dữ liệu cho Newspaper (index = 2)\n",
        "    newspaper_data = get_column(data, 2)\n",
        "\n",
        "    # Lấy dữ liệu cho Sales (index = 3)\n",
        "    sales_data = get_column(data, 3)\n",
        "\n",
        "    # Xây dựng đầu vào X và đầu ra y để huấn luyện\n",
        "    X = [tv_data, radio_data, newspaper_data]\n",
        "    y = sales_data\n",
        "\n",
        "    return X, y"
      ],
      "metadata": {
        "id": "BL61mlXZOw9c"
      },
      "execution_count": 2,
      "outputs": []
    },
    {
      "cell_type": "code",
      "source": [
        "# test\n",
        "file_name_dataset = '/content/drive/MyDrive/0012. AIO 2024/004. MODULE 4/001. GIAO BÀI TẬP WEEK 1/advertising.csv'\n",
        "X, y = prepare_data(file_name_dataset)\n",
        "list  = [sum(X[0][:5]), sum(X[1][:5]), sum(X[2][:5]), sum(y[:5])]\n",
        "print(list)"
      ],
      "metadata": {
        "colab": {
          "base_uri": "https://localhost:8080/"
        },
        "id": "VxiUkZ14Rb3K",
        "outputId": "cde1bee5-dd3f-49c1-ff3b-b29ccdaba10f"
      },
      "execution_count": 3,
      "outputs": [
        {
          "output_type": "stream",
          "name": "stdout",
          "text": [
            "[624.1, 175.10000000000002, 300.5, 78.9]\n"
          ]
        }
      ]
    },
    {
      "cell_type": "markdown",
      "source": [
        "# Kỹ thuật huấn luyện data dùng one sample- linear regression"
      ],
      "metadata": {
        "id": "YRBxwRs0TYyt"
      }
    },
    {
      "cell_type": "markdown",
      "source": [
        "## function initialize_params()"
      ],
      "metadata": {
        "id": "0t0Xf5X-WC0N"
      }
    },
    {
      "cell_type": "code",
      "source": [
        "def initialize_params():\n",
        "    # Khởi tạo giá trị ban đầu cho w1, w2, w3 theo phân phối Gaussian và b = 0\n",
        "    w1 = random.gauss(mu=0.0, sigma=0.01)\n",
        "    w2 = random.gauss(mu=0.0, sigma=0.01)\n",
        "    w3 = random.gauss(mu=0.0, sigma=0.01)\n",
        "    b = 0\n",
        "    return w1, w2, w3, b"
      ],
      "metadata": {
        "id": "HPMAJ0YHVRGw"
      },
      "execution_count": 4,
      "outputs": []
    },
    {
      "cell_type": "code",
      "source": [
        "def initialize_params():\n",
        "  w1, w2, w3, b = (0.016992259082509283, 0.0070783670518262355, -0.002307860847821344, 0)\n",
        "  return w1, w2, w3, b"
      ],
      "metadata": {
        "id": "IPOEcTohVT1t"
      },
      "execution_count": 5,
      "outputs": []
    },
    {
      "cell_type": "markdown",
      "source": [
        "## Hàm dự đoán"
      ],
      "metadata": {
        "id": "OoB2Qn49WHUN"
      }
    },
    {
      "cell_type": "code",
      "source": [
        "def predict(x1, x2, x3, w1, w2, w3, b):\n",
        "    # Tính giá trị dự đoán dựa trên các tham số w và b\n",
        "    result = w1 * x1 + w2 * x2 + w3 * x3 + b\n",
        "    return result"
      ],
      "metadata": {
        "id": "xKGfO4SmWLw2"
      },
      "execution_count": 6,
      "outputs": []
    },
    {
      "cell_type": "code",
      "source": [
        "# test\n",
        "y = predict(x1 = 1, x2 = 1, x3 = 1, w1 = 0, w2 = 0.5, w3 = 0, b = 0.5)\n",
        "print(y)"
      ],
      "metadata": {
        "colab": {
          "base_uri": "https://localhost:8080/"
        },
        "id": "_wqYNrI6WWcD",
        "outputId": "96e889e6-982a-46f4-8bf4-f4d442385838"
      },
      "execution_count": 7,
      "outputs": [
        {
          "output_type": "stream",
          "name": "stdout",
          "text": [
            "1.0\n"
          ]
        }
      ]
    },
    {
      "cell_type": "markdown",
      "source": [
        "## Hàm tính loss"
      ],
      "metadata": {
        "id": "6D_O1wJ4XIiM"
      }
    },
    {
      "cell_type": "code",
      "source": [
        "def compute_loss(y_hat, y):\n",
        "    # Tính loss giữa giá trị dự đoán và giá trị thực (Mean Squared Error)\n",
        "    loss = (y_hat - y) ** 2\n",
        "    return loss"
      ],
      "metadata": {
        "id": "DPHci6RuXKi4"
      },
      "execution_count": 8,
      "outputs": []
    },
    {
      "cell_type": "code",
      "source": [
        "# test\n",
        "compute_loss(y_hat=1,y=0.5)"
      ],
      "metadata": {
        "colab": {
          "base_uri": "https://localhost:8080/"
        },
        "id": "4vSLJSOfXMBF",
        "outputId": "b3a61071-1de1-42c5-80e5-be3a2f3b3d48"
      },
      "execution_count": 9,
      "outputs": [
        {
          "output_type": "execute_result",
          "data": {
            "text/plain": [
              "0.25"
            ]
          },
          "metadata": {},
          "execution_count": 9
        }
      ]
    },
    {
      "cell_type": "markdown",
      "source": [
        "## Tính đạo hàm theo wi và b"
      ],
      "metadata": {
        "id": "WSzw9wUVXeMG"
      }
    },
    {
      "cell_type": "code",
      "source": [
        "def compute_gradient_wi(xi, y, y_hat):\n",
        "    # Tính gradient của hàm mất mát theo wi\n",
        "    dl_dwi = -2 * (y - y_hat) * xi\n",
        "    return dl_dwi\n",
        "\n",
        "def compute_gradient_b(y, y_hat):\n",
        "    # Tính gradient của hàm mất mát theo b\n",
        "    dl_db = -2 * (y - y_hat)\n",
        "    return dl_db"
      ],
      "metadata": {
        "id": "AYVxzAoiXrk2"
      },
      "execution_count": 10,
      "outputs": []
    },
    {
      "cell_type": "code",
      "source": [
        "# test\n",
        "# MSE loss\n",
        "g_wi = compute_gradient_wi(xi=1.0, y=1.0, y_hat=0.5)\n",
        "g_wi"
      ],
      "metadata": {
        "colab": {
          "base_uri": "https://localhost:8080/"
        },
        "id": "S-vjT11HX6ms",
        "outputId": "6e9f8c7b-5d70-4270-e83a-6628f7544275"
      },
      "execution_count": 11,
      "outputs": [
        {
          "output_type": "execute_result",
          "data": {
            "text/plain": [
              "-1.0"
            ]
          },
          "metadata": {},
          "execution_count": 11
        }
      ]
    },
    {
      "cell_type": "code",
      "source": [
        "g_b = compute_gradient_b(y=2.0, y_hat=0.5)\n",
        "print(g_b)"
      ],
      "metadata": {
        "colab": {
          "base_uri": "https://localhost:8080/"
        },
        "id": "RnJuesGjYRaV",
        "outputId": "7f9399e6-f640-465c-a304-c5738b0b6aac"
      },
      "execution_count": 12,
      "outputs": [
        {
          "output_type": "stream",
          "name": "stdout",
          "text": [
            "-3.0\n"
          ]
        }
      ]
    },
    {
      "cell_type": "markdown",
      "source": [
        "## Hàm cập nhật trọng số và bias"
      ],
      "metadata": {
        "id": "WD3rbhZFYWGy"
      }
    },
    {
      "cell_type": "code",
      "source": [
        "def update_weight_wi(wi, dl_dwi, lr):\n",
        "    # Cập nhật trọng số wi\n",
        "    wi = wi - lr * dl_dwi\n",
        "    return wi\n",
        "\n",
        "def update_weight_b(b, dl_db, lr):\n",
        "    # Cập nhật bias b\n",
        "    b = b - lr * dl_db\n",
        "    return b"
      ],
      "metadata": {
        "id": "O-wYZWlHYkV3"
      },
      "execution_count": 13,
      "outputs": []
    },
    {
      "cell_type": "code",
      "source": [
        "# test\n",
        "after_wi = update_weight_wi(wi=1.0, dl_dwi=-0.5, lr = 1e-5)\n",
        "print(after_wi)"
      ],
      "metadata": {
        "colab": {
          "base_uri": "https://localhost:8080/"
        },
        "id": "gAWq4X5JYp3l",
        "outputId": "0eb5ed26-52ce-4db0-eb5d-14cadb3334f2"
      },
      "execution_count": 14,
      "outputs": [
        {
          "output_type": "stream",
          "name": "stdout",
          "text": [
            "1.000005\n"
          ]
        }
      ]
    },
    {
      "cell_type": "code",
      "source": [
        "# test\n",
        "after_b = update_weight_b(b=0.5, dl_db=-1.0, lr = 1e-5)\n",
        "print(after_b)"
      ],
      "metadata": {
        "colab": {
          "base_uri": "https://localhost:8080/"
        },
        "id": "FQMmdiVjYwA5",
        "outputId": "a3d940a3-996b-4836-e265-9a1379e60ead"
      },
      "execution_count": 15,
      "outputs": [
        {
          "output_type": "stream",
          "name": "stdout",
          "text": [
            "0.50001\n"
          ]
        }
      ]
    },
    {
      "cell_type": "markdown",
      "source": [
        "## Huấn luyện data"
      ],
      "metadata": {
        "id": "Ia8RaPmLY-fb"
      }
    },
    {
      "cell_type": "code",
      "source": [
        "def implement_linear_regression(X_data, y_data, epoch_max=50, lr=1e-5):\n",
        "    # Huấn luyện mô hình hồi quy tuyến tính với một mẫu mỗi lần\n",
        "    losses = []\n",
        "    w1, w2, w3, b = initialize_params()\n",
        "    N = len(y_data)\n",
        "\n",
        "    for epoch in range(epoch_max):\n",
        "        for i in range(N):\n",
        "            # Lấy một mẫu dữ liệu\n",
        "            x1 = X_data[0][i]\n",
        "            x2 = X_data[1][i]\n",
        "            x3 = X_data[2][i]\n",
        "            y = y_data[i]\n",
        "\n",
        "            # Tính giá trị dự đoán\n",
        "            y_hat = predict(x1, x2, x3, w1, w2, w3, b)\n",
        "\n",
        "            # Tính loss\n",
        "            loss = compute_loss(y_hat, y)\n",
        "\n",
        "            # Tính gradient\n",
        "            dl_dw1 = compute_gradient_wi(x1, y, y_hat)\n",
        "            dl_dw2 = compute_gradient_wi(x2, y, y_hat)\n",
        "            dl_dw3 = compute_gradient_wi(x3, y, y_hat)\n",
        "            dl_db = compute_gradient_b(y, y_hat)\n",
        "\n",
        "            # Cập nhật tham số\n",
        "            w1 = update_weight_wi(w1, dl_dw1, lr)\n",
        "            w2 = update_weight_wi(w2, dl_dw2, lr)\n",
        "            w3 = update_weight_wi(w3, dl_dw3, lr)\n",
        "            b = update_weight_b(b, dl_db, lr)\n",
        "\n",
        "            # Ghi lại loss\n",
        "            losses.append(loss)\n",
        "\n",
        "    return w1, w2, w3, b, losses"
      ],
      "metadata": {
        "id": "-HGn0UpYZQuS"
      },
      "execution_count": 16,
      "outputs": []
    },
    {
      "cell_type": "code",
      "source": [
        "file_name_dataset = '/content/drive/MyDrive/0012. AIO 2024/004. MODULE 4/001. GIAO BÀI TẬP WEEK 1/advertising.csv'\n",
        "X, y = prepare_data(file_name_dataset)\n",
        "\n",
        "(w1,w2,w3,b, losses) = implement_linear_regression(X,y)\n",
        "plt.plot(losses[:100])\n",
        "plt.xlabel(\"Lần lặp\")\n",
        "plt.ylabel(\"Loss\")\n",
        "plt.show()"
      ],
      "metadata": {
        "colab": {
          "base_uri": "https://localhost:8080/",
          "height": 450
        },
        "id": "baMMedqoZjID",
        "outputId": "7f8fd4f1-34fc-4337-af72-1f2675a2f001"
      },
      "execution_count": 17,
      "outputs": [
        {
          "output_type": "display_data",
          "data": {
            "text/plain": [
              "<Figure size 640x480 with 1 Axes>"
            ],
            "image/png": "[encoded data removed]"
          },
          "metadata": {}
        }
      ]
    },
    {
      "cell_type": "code",
      "source": [
        "# xem giá trị trọng số\n",
        "print(w1, w2, w3)"
      ],
      "metadata": {
        "colab": {
          "base_uri": "https://localhost:8080/"
        },
        "id": "gGzLTo16afuO",
        "outputId": "daba0f02-993e-44db-b261-097c718a4b3c"
      },
      "execution_count": 18,
      "outputs": [
        {
          "output_type": "stream",
          "name": "stdout",
          "text": [
            "0.07405984066396477 0.15917360263437663 0.017561197559948935\n"
          ]
        }
      ]
    },
    {
      "cell_type": "code",
      "source": [
        "# given new data\n",
        "tv = 19.2\n",
        "radio = 35.9\n",
        "newspaper = 51.3\n",
        "X, y = prepare_data(file_name_dataset)\n",
        "(w1, w2, w3, b, losses) = implement_linear_regression(X, y, epoch_max=50, lr=1e-5)\n",
        "sales = predict(tv, radio, newspaper, w1, w2, w3, b)\n",
        "print(f'predicted sales is {sales}')"
      ],
      "metadata": {
        "colab": {
          "base_uri": "https://localhost:8080/"
        },
        "id": "V5Wv_34bbDd8",
        "outputId": "76863fb7-cbab-4994-865b-35b365f976a0"
      },
      "execution_count": 19,
      "outputs": [
        {
          "output_type": "stream",
          "name": "stdout",
          "text": [
            "predicted sales is 8.176413319549823\n"
          ]
        }
      ]
    },
    {
      "cell_type": "markdown",
      "source": [
        "## Huấn luyện one sample bằng MAE Loss function"
      ],
      "metadata": {
        "id": "DF6eQ-aYJVMS"
      }
    },
    {
      "cell_type": "code",
      "source": [
        "def compute_loss_mae(y_hat, y):\n",
        "    # Tính loss giữa giá trị dự đoán và giá trị thực (Mean Absolute Error)\n",
        "    loss = abs(y_hat - y)\n",
        "    return loss"
      ],
      "metadata": {
        "id": "lxCHaGc0Jd3N"
      },
      "execution_count": 20,
      "outputs": []
    },
    {
      "cell_type": "code",
      "source": [
        "# test\n",
        "a = compute_loss_mae(y_hat=1,y=0.5)\n",
        "print(a)"
      ],
      "metadata": {
        "colab": {
          "base_uri": "https://localhost:8080/"
        },
        "id": "ylcBfLcAJhQ_",
        "outputId": "2bf5b826-2b74-4aec-bca4-ca0085864b83"
      },
      "execution_count": 21,
      "outputs": [
        {
          "output_type": "stream",
          "name": "stdout",
          "text": [
            "0.5\n"
          ]
        }
      ]
    },
    {
      "cell_type": "code",
      "source": [
        "def implement_linear_regression_mae_loss(X_data, y_data, epoch_max=50, lr=1e-5):\n",
        "    # Huấn luyện mô hình hồi quy tuyến tính với một mẫu mỗi lần\n",
        "    losses = []\n",
        "    w1, w2, w3, b = initialize_params()\n",
        "    N = len(y_data)\n",
        "\n",
        "    for epoch in range(epoch_max):\n",
        "        for i in range(N):\n",
        "            # Lấy một mẫu dữ liệu\n",
        "            x1 = X_data[0][i]\n",
        "            x2 = X_data[1][i]\n",
        "            x3 = X_data[2][i]\n",
        "            y = y_data[i]\n",
        "\n",
        "            # Tính giá trị dự đoán\n",
        "            y_hat = predict(x1, x2, x3, w1, w2, w3, b)\n",
        "\n",
        "            # Tính loss\n",
        "            loss = compute_loss_mae(y_hat, y)\n",
        "\n",
        "            # Tính gradient\n",
        "            dl_dw1 = compute_gradient_wi(x1, y, y_hat)\n",
        "            dl_dw2 = compute_gradient_wi(x2, y, y_hat)\n",
        "            dl_dw3 = compute_gradient_wi(x3, y, y_hat)\n",
        "            dl_db = compute_gradient_b(y, y_hat)\n",
        "\n",
        "            # Cập nhật tham số\n",
        "            w1 = update_weight_wi(w1, dl_dw1, lr)\n",
        "            w2 = update_weight_wi(w2, dl_dw2, lr)\n",
        "            w3 = update_weight_wi(w3, dl_dw3, lr)\n",
        "            b = update_weight_b(b, dl_db, lr)\n",
        "\n",
        "            # Ghi lại loss\n",
        "            losses.append(loss)\n",
        "\n",
        "    return w1, w2, w3, b, losses"
      ],
      "metadata": {
        "id": "4Avdj8W_Jugz"
      },
      "execution_count": 22,
      "outputs": []
    },
    {
      "cell_type": "code",
      "source": [
        "X, y = prepare_data(file_name_dataset)\n",
        "\n",
        "(w1,w2,w3,b, losses) = implement_linear_regression_mae_loss(X,y)\n",
        "plt.plot(losses[:100])\n",
        "plt.xlabel(\"Lần lặp\")\n",
        "plt.ylabel(\"Loss\")\n",
        "plt.show()"
      ],
      "metadata": {
        "colab": {
          "base_uri": "https://localhost:8080/",
          "height": 450
        },
        "id": "adYTV2JbJ5xm",
        "outputId": "0efd04f2-6644-47cd-c682-497187f489e7"
      },
      "execution_count": 23,
      "outputs": [
        {
          "output_type": "display_data",
          "data": {
            "text/plain": [
              "<Figure size 640x480 with 1 Axes>"
            ],
            "image/png": "[encoded data removed]"
          },
          "metadata": {}
        }
      ]
    },
    {
      "cell_type": "markdown",
      "source": [
        "# Huấn luyện data bằng batch N samples linear regression"
      ],
      "metadata": {
        "id": "ZMZOA1HQLDBJ"
      }
    },
    {
      "cell_type": "markdown",
      "source": [
        "## Hàm loss MSE"
      ],
      "metadata": {
        "id": "8PZIXIyMvKpX"
      }
    },
    {
      "cell_type": "code",
      "source": [
        "# Function to compute MSE loss\n",
        "def compute_loss_mse(y, y_hat):\n",
        "    return np.power((y_hat - y), 2)"
      ],
      "metadata": {
        "id": "DhcvytzYjgxE"
      },
      "execution_count": 24,
      "outputs": []
    },
    {
      "cell_type": "code",
      "source": [
        "# Function to implement N-sample linear regression\n",
        "def implement_linear_regression_nsamples(X_data, y_data, epoch_max=50, lr=1e-5):\n",
        "    losses = []\n",
        "\n",
        "    # Initialize weights\n",
        "    w1, w2, w3, b = initialize_params()\n",
        "\n",
        "    N = len(y_data)\n",
        "\n",
        "    # Loop over epochs\n",
        "    for epoch in range(epoch_max):\n",
        "        loss_total = 0.0\n",
        "        dw1_total = 0.0\n",
        "        dw2_total = 0.0\n",
        "        dw3_total = 0.0\n",
        "        db_total = 0.0\n",
        "\n",
        "        # Loop over all samples\n",
        "        for i in range(N):\n",
        "            # Get a sample\n",
        "            x1 = X_data[0][i]\n",
        "            x2 = X_data[1][i]\n",
        "            x3 = X_data[2][i]\n",
        "            y = y_data[i]\n",
        "\n",
        "            # Compute output\n",
        "            y_hat = predict(x1, x2, x3, w1, w2, w3, b)\n",
        "\n",
        "            # Compute loss\n",
        "            loss = compute_loss_mse(y, y_hat)\n",
        "\n",
        "            # Accumulate loss\n",
        "            loss_total += loss\n",
        "\n",
        "            # Compute gradients for each parameter\n",
        "            dl_dw1 = compute_gradient_wi(x1, y, y_hat)\n",
        "            dl_dw2 = compute_gradient_wi(x2, y, y_hat)\n",
        "            dl_dw3 = compute_gradient_wi(x3, y, y_hat)\n",
        "            dl_db = compute_gradient_b(y, y_hat)\n",
        "\n",
        "            # Accumulate gradients\n",
        "            dw1_total += dl_dw1\n",
        "            dw2_total += dl_dw2\n",
        "            dw3_total += dl_dw3\n",
        "            db_total += dl_db\n",
        "\n",
        "        # Update parameters after processing all samples\n",
        "        w1 = update_weight_wi(w1, dw1_total / N, lr)\n",
        "        w2 = update_weight_wi(w2, dw2_total / N, lr)\n",
        "        w3 = update_weight_wi(w3, dw3_total / N, lr)\n",
        "        b = update_weight_b(b, db_total / N, lr)\n",
        "\n",
        "        # Log average loss for this epoch\n",
        "        losses.append(loss_total / N)\n",
        "\n",
        "    return w1, w2, w3, b, losses"
      ],
      "metadata": {
        "id": "V-5n27WaLMkc"
      },
      "execution_count": 25,
      "outputs": []
    },
    {
      "cell_type": "code",
      "source": [
        "w1, w2, w3, b, losses =  implement_linear_regression_nsamples(X, y, epoch_max=100, lr=1e-5)\n",
        "plt.plot(losses)\n",
        "plt.xlabel(\"Lần học\")\n",
        "plt.ylabel(\"Loss\")\n",
        "plt.show()"
      ],
      "metadata": {
        "colab": {
          "base_uri": "https://localhost:8080/",
          "height": 450
        },
        "id": "tzgP8XBDhFim",
        "outputId": "71bd8b20-b878-4e2d-f524-9ae1e1ab412a"
      },
      "execution_count": 26,
      "outputs": [
        {
          "output_type": "display_data",
          "data": {
            "text/plain": [
              "<Figure size 640x480 with 1 Axes>"
            ],
            "image/png": "[encoded data removed]"
          },
          "metadata": {}
        }
      ]
    },
    {
      "cell_type": "code",
      "source": [
        "print(w1, w2, w3, b)"
      ],
      "metadata": {
        "colab": {
          "base_uri": "https://localhost:8080/"
        },
        "id": "zPtGaugHkXZB",
        "outputId": "aebabae0-e316-453b-ab7d-02c993655c72"
      },
      "execution_count": 27,
      "outputs": [
        {
          "output_type": "stream",
          "name": "stdout",
          "text": [
            "0.07291095516263317 0.08138206886574466 0.052029429858699634 0.0026849516679532622\n"
          ]
        }
      ]
    },
    {
      "cell_type": "markdown",
      "source": [
        "## Hàm loss MAE"
      ],
      "metadata": {
        "id": "2_uilJdsvS1n"
      }
    },
    {
      "cell_type": "code",
      "source": [
        "def compute_loss_mae(y, y_hat):\n",
        "    return np.abs(y_hat - y)"
      ],
      "metadata": {
        "id": "o9jxIzApvVuG"
      },
      "execution_count": 28,
      "outputs": []
    },
    {
      "cell_type": "code",
      "source": [
        "# Function to implement N-sample linear regression\n",
        "def implement_linear_regression_nsamples_mae_loss(X_data, y_data, epoch_max=50, lr=1e-5):\n",
        "    losses = []\n",
        "\n",
        "    # Initialize weights\n",
        "    w1, w2, w3, b = initialize_params()\n",
        "\n",
        "    N = len(y_data)\n",
        "\n",
        "    # Loop over epochs\n",
        "    for epoch in range(epoch_max):\n",
        "        loss_total = 0.0\n",
        "        dw1_total = 0.0\n",
        "        dw2_total = 0.0\n",
        "        dw3_total = 0.0\n",
        "        db_total = 0.0\n",
        "\n",
        "        # Loop over all samples\n",
        "        for i in range(N):\n",
        "            # Get a sample\n",
        "            x1 = X_data[0][i]\n",
        "            x2 = X_data[1][i]\n",
        "            x3 = X_data[2][i]\n",
        "            y = y_data[i]\n",
        "\n",
        "            # Compute output\n",
        "            y_hat = predict(x1, x2, x3, w1, w2, w3, b)\n",
        "\n",
        "            # Compute loss\n",
        "            loss = compute_loss_mae(y, y_hat)\n",
        "\n",
        "            # Accumulate loss\n",
        "            loss_total += loss\n",
        "\n",
        "            # Compute gradients for each parameter\n",
        "            dl_dw1 = compute_gradient_wi(x1, y, y_hat)\n",
        "            dl_dw2 = compute_gradient_wi(x2, y, y_hat)\n",
        "            dl_dw3 = compute_gradient_wi(x3, y, y_hat)\n",
        "            dl_db = compute_gradient_b(y, y_hat)\n",
        "\n",
        "            # Accumulate gradients\n",
        "            dw1_total += dl_dw1\n",
        "            dw2_total += dl_dw2\n",
        "            dw3_total += dl_dw3\n",
        "            db_total += dl_db\n",
        "\n",
        "        # Update parameters after processing all samples\n",
        "        w1 = update_weight_wi(w1, dw1_total / N, lr)\n",
        "        w2 = update_weight_wi(w2, dw2_total / N, lr)\n",
        "        w3 = update_weight_wi(w3, dw3_total / N, lr)\n",
        "        b = update_weight_b(b, db_total / N, lr)\n",
        "\n",
        "        # Log average loss for this epoch\n",
        "        losses.append(loss_total / N)\n",
        "\n",
        "    return w1, w2, w3, b, losses"
      ],
      "metadata": {
        "id": "gdKsg21bvpbb"
      },
      "execution_count": 29,
      "outputs": []
    },
    {
      "cell_type": "code",
      "source": [
        "w1, w2, w3, b, losses = implement_linear_regression_nsamples_mae_loss(X, y, epoch_max=100, lr=1e-5)\n",
        "plt.plot(losses)\n",
        "plt.xlabel(\"Lần học\")\n",
        "plt.ylabel(\"Loss MAE values\")\n",
        "plt.show()"
      ],
      "metadata": {
        "colab": {
          "base_uri": "https://localhost:8080/",
          "height": 450
        },
        "id": "u5wxz-9p4_9Y",
        "outputId": "288bf689-643a-45b8-b0cb-baadedd7a09a"
      },
      "execution_count": 30,
      "outputs": [
        {
          "output_type": "display_data",
          "data": {
            "text/plain": [
              "<Figure size 640x480 with 1 Axes>"
            ],
            "image/png": "[encoded data removed]"
          },
          "metadata": {}
        }
      ]
    },
    {
      "cell_type": "markdown",
      "source": [
        "# Huấn luyện data bằng phương pháp Ma Trận - Đại Số Tuyến Tính - Linear regression"
      ],
      "metadata": {
        "id": "HHNJUEf-Kbvy"
      }
    },
    {
      "cell_type": "markdown",
      "source": [
        "## Chuẩn bị data\n",
        "- y_pred = a0 * x0 + a1 * x1 + a2 * x2 + .... + an * xn\n",
        "- x0: 1\n"
      ],
      "metadata": {
        "id": "apOOynYOKvql"
      }
    },
    {
      "cell_type": "code",
      "source": [
        "def prepare_data_matrix(file_name_dataset):\n",
        "  \"\"\"\n",
        "  Input đầu vào: file csv\n",
        "  Output đầu ra: tuple(X_matrix, y_matrix)\n",
        "  \"\"\"\n",
        "  data = np.genfromtxt(file_name_dataset, delimiter=',', skip_header=1).tolist()\n",
        "\n",
        "  # lấy dữ liệu từ cột\n",
        "  tv_data = get_column(data, 0)\n",
        "  radio_data = get_column(data, 1)\n",
        "  newspaper_data = get_column(data, 2)\n",
        "  sales_data = get_column(data, 3)\n",
        "\n",
        "  # Tạo danh sách features cho input\n",
        "  X = [[1,x2, x3, x4] for x2, x3, x4 in zip(tv_data, radio_data, newspaper_data)]\n",
        "  y = sales_data\n",
        "\n",
        "  return X, y"
      ],
      "metadata": {
        "id": "Lmv5PSQaLwXF"
      },
      "execution_count": 31,
      "outputs": []
    },
    {
      "cell_type": "markdown",
      "source": [
        "## Tạo trọng số ban đầu"
      ],
      "metadata": {
        "id": "k_ogkmzfNb23"
      }
    },
    {
      "cell_type": "code",
      "source": [
        "def initialize_params():\n",
        "    \"\"\"\n",
        "    Khởi tạo ngẫu nhiên giá trị ban đầu cho bias và trọng số.\n",
        "\n",
        "    Returns:\n",
        "        list: Danh sách chứa bias và các trọng số w1, w2, w3.\n",
        "    \"\"\"\n",
        "    bias = 0\n",
        "    w1 = random.gauss(mu = 0.0, sigma = 0.01)\n",
        "    w2 = random.gauss(mu = 0.0, sigma = 0.01)\n",
        "    w3 = random.gauss(mu = 0.0, sigma = 0.01)\n",
        "\n",
        "    return [0 , -0.01268850433497871 , 0.004752496982185252 , 0.0073796171538643845]"
      ],
      "metadata": {
        "id": "COXmpYDWNfEI"
      },
      "execution_count": 32,
      "outputs": []
    },
    {
      "cell_type": "markdown",
      "source": [
        "## Dự đoán output từng sample"
      ],
      "metadata": {
        "id": "3gB6TUt4RngR"
      }
    },
    {
      "cell_type": "code",
      "source": [
        "def predict(X_features, weights):\n",
        "    \"\"\"\n",
        "    Dự đoán output bằng cách sử dụng hàm y = x0*b + x1*w1 + x2*w2 + x3*w3.\n",
        "    Args:\n",
        "        X_features (list): Danh sách các feature của một mẫu.\n",
        "        weights (list): Danh sách các trọng số.\n",
        "\n",
        "    Returns:\n",
        "        float: Giá trị dự đoán của output.\n",
        "    \"\"\"\n",
        "    y_hat = sum([x * w for x, w in zip(X_features, weights)])\n",
        "    return y_hat"
      ],
      "metadata": {
        "id": "Gmskf6MbR_nB"
      },
      "execution_count": 33,
      "outputs": []
    },
    {
      "cell_type": "markdown",
      "source": [
        "## Tính toán mất mác"
      ],
      "metadata": {
        "id": "3XW222_YTqeV"
      }
    },
    {
      "cell_type": "code",
      "source": [
        "def compute_loss(y_hat, y):\n",
        "    \"\"\"\n",
        "    Tính toán loss giữa giá trị dự đoán và giá trị thực tế.\n",
        "    Args:\n",
        "        y_hat (float): Giá trị dự đoán.\n",
        "        y (float): Giá trị thực tế.\n",
        "\n",
        "    Returns:\n",
        "        float: Giá trị của loss.\n",
        "    \"\"\"\n",
        "    return (y_hat - y) ** 2"
      ],
      "metadata": {
        "id": "55mGtGiXTw6v"
      },
      "execution_count": 34,
      "outputs": []
    },
    {
      "cell_type": "markdown",
      "source": [
        "## Tính đạo hàm ứng với từng features"
      ],
      "metadata": {
        "id": "lpdS-ks0TyFG"
      }
    },
    {
      "cell_type": "code",
      "source": [
        "def compute_gradient_w(X_features, y, y_hat):\n",
        "    \"\"\"\n",
        "    Tính đạo hàm của hàm loss theo các trọng số.\n",
        "    Args:\n",
        "        X_features (list): Danh sách các feature của một mẫu.\n",
        "        y (float): Giá trị thực tế của output.\n",
        "        y_hat (float): Giá trị dự đoán của output.\n",
        "\n",
        "    Returns:\n",
        "        list: Gradient của loss theo từng trọng số.\n",
        "    \"\"\"\n",
        "    dl_dweights = [2 * (y_hat - y) * x for x in X_features]\n",
        "    return dl_dweights"
      ],
      "metadata": {
        "id": "wmK69s29T-D-"
      },
      "execution_count": 35,
      "outputs": []
    },
    {
      "cell_type": "markdown",
      "source": [
        "## Cập nhật trọng số sau khi tính gradient"
      ],
      "metadata": {
        "id": "KK4R94DyUIzC"
      }
    },
    {
      "cell_type": "code",
      "source": [
        "def update_weight(weights, dl_dweights, lr):\n",
        "    \"\"\"\n",
        "    Cập nhật trọng số sau khi tính gradient.\n",
        "    Args:\n",
        "        weights (list): Danh sách các trọng số.\n",
        "        dl_dweights (list): Gradient của loss theo từng trọng số.\n",
        "        lr (float): Learning rate.\n",
        "\n",
        "    Returns:\n",
        "        list: Danh sách trọng số sau khi cập nhật.\n",
        "    \"\"\"\n",
        "    weights = [w - lr * dw for w, dw in zip(weights, dl_dweights)]\n",
        "    return weights"
      ],
      "metadata": {
        "id": "GUZwyDciVTjI"
      },
      "execution_count": 36,
      "outputs": []
    },
    {
      "cell_type": "markdown",
      "source": [
        "## Hàm train linear regression"
      ],
      "metadata": {
        "id": "Zc60IGi6WwDU"
      }
    },
    {
      "cell_type": "code",
      "source": [
        "def implement_linear_regression(X_feature, y_output, epoch_max=50, lr=1e-5):\n",
        "    \"\"\"\n",
        "    Huấn luyện mô hình Linear Regression.\n",
        "    Args:\n",
        "        X_feature (list): Dữ liệu đầu vào.\n",
        "        y_output (list): Dữ liệu đầu ra.\n",
        "        epoch_max (int): Số epoch tối đa.\n",
        "        lr (float): Learning rate.\n",
        "\n",
        "    Returns:\n",
        "        tuple: Trọng số cuối cùng và danh sách loss trong quá trình huấn luyện.\n",
        "    \"\"\"\n",
        "    losses = []\n",
        "    weights = initialize_params()\n",
        "    N = len(y_output)\n",
        "    for epoch in range(epoch_max):\n",
        "        print('epoch: ' , epoch)\n",
        "        for i in range(N):\n",
        "            # Lấy một mẫu - hàng thứ i\n",
        "            features_i = X_feature[i]\n",
        "            y = y_output[i]\n",
        "\n",
        "            # Tính output dự đoán\n",
        "            y_hat = predict(features_i, weights)\n",
        "\n",
        "            # Tính loss\n",
        "            loss = compute_loss_mse(y_hat, y)\n",
        "\n",
        "            # Tính gradient của các trọng số\n",
        "            dl_dweights = compute_gradient_w(features_i, y, y_hat)\n",
        "\n",
        "            # Cập nhật trọng số\n",
        "            weights = update_weight(weights, dl_dweights, lr)\n",
        "\n",
        "            # Logging\n",
        "            losses.append(loss)\n",
        "    return weights, losses"
      ],
      "metadata": {
        "id": "8W8AkhYuWzN3"
      },
      "execution_count": 55,
      "outputs": []
    },
    {
      "cell_type": "markdown",
      "source": [
        "## Train"
      ],
      "metadata": {
        "id": "EAheADebXmyI"
      }
    },
    {
      "cell_type": "code",
      "source": [
        "file_name = '/content/drive/MyDrive/0012. AIO 2024/004. MODULE 4/001. GIAO BÀI TẬP WEEK 1/advertising.csv'\n",
        "X, y = prepare_data_matrix(file_name)\n",
        "weights, losses = implement_linear_regression(X, y)\n",
        "print(\"Trọng số cuối cùng:\", weights)\n",
        "plt.plot(losses[:100])\n",
        "plt.xlabel(\"#iteration\")\n",
        "plt.ylabel(\"Loss\")\n",
        "plt.show()"
      ],
      "metadata": {
        "colab": {
          "base_uri": "https://localhost:8080/",
          "height": 1000
        },
        "id": "Ai-LA16MXopn",
        "outputId": "1540cc91-d84a-435e-850b-a4198323fadd"
      },
      "execution_count": 58,
      "outputs": [
        {
          "output_type": "stream",
          "name": "stdout",
          "text": [
            "epoch:  0\n",
            "epoch:  1\n",
            "epoch:  2\n",
            "epoch:  3\n",
            "epoch:  4\n",
            "epoch:  5\n",
            "epoch:  6\n",
            "epoch:  7\n",
            "epoch:  8\n",
            "epoch:  9\n",
            "epoch:  10\n",
            "epoch:  11\n",
            "epoch:  12\n",
            "epoch:  13\n",
            "epoch:  14\n",
            "epoch:  15\n",
            "epoch:  16\n",
            "epoch:  17\n",
            "epoch:  18\n",
            "epoch:  19\n",
            "epoch:  20\n",
            "epoch:  21\n",
            "epoch:  22\n",
            "epoch:  23\n",
            "epoch:  24\n",
            "epoch:  25\n",
            "epoch:  26\n",
            "epoch:  27\n",
            "epoch:  28\n",
            "epoch:  29\n",
            "epoch:  30\n",
            "epoch:  31\n",
            "epoch:  32\n",
            "epoch:  33\n",
            "epoch:  34\n",
            "epoch:  35\n",
            "epoch:  36\n",
            "epoch:  37\n",
            "epoch:  38\n",
            "epoch:  39\n",
            "epoch:  40\n",
            "epoch:  41\n",
            "epoch:  42\n",
            "epoch:  43\n",
            "epoch:  44\n",
            "epoch:  45\n",
            "epoch:  46\n",
            "epoch:  47\n",
            "epoch:  48\n",
            "epoch:  49\n",
            "Trọng số cuối cùng: [0.13922134568608693, 0.07405993048589583, 0.1591738341288154, 0.01756130169377892]\n"
          ]
        },
        {
          "output_type": "display_data",
          "data": {
            "text/plain": [
              "<Figure size 640x480 with 1 Axes>"
            ],
            "image/png": "[encoded data removed]"
          },
          "metadata": {}
        }
      ]
    },
    {
      "cell_type": "markdown",
      "source": [
        "# Feature Scaling\n",
        "- Chuẩn hóa dữ liệu đầu vào giúp hàm loss nhanh hội tụ\n",
        "- Chuẩn hóa theo MinMax Scale\n",
        "- X_new = Xold - Xmin / (X_max - X_min)"
      ],
      "metadata": {
        "id": "tLvYUUix5IY7"
      }
    },
    {
      "cell_type": "markdown",
      "source": [
        "## Hàm chuẩn hóa theo phương MinMax Scale"
      ],
      "metadata": {
        "id": "qp3jngQr8JJc"
      }
    },
    {
      "cell_type": "code",
      "source": [
        "def min_max_scaling(data1, data2, data3):\n",
        "  max_tv = max(data1)\n",
        "  max_radio = max(data2)\n",
        "  max_newspaper = max(data3)\n",
        "\n",
        "  min_tv = min(data1)\n",
        "  min_radio = min(data2)\n",
        "  min_newspaper = min(data3)\n",
        "\n",
        "  # áp dụng MinMax Scaling\n",
        "  data1 = [(x - min_tv) / (max_tv - min_tv) for x in data1]\n",
        "  data2 = [(x - min_radio) / (max_radio - min_radio) for x in data2]\n",
        "  data3 = [(x - min_newspaper) / (max_newspaper - min_newspaper) for x in data3]\n",
        "\n",
        "  return (data1, data2, data3), (max_tv, max_radio, max_newspaper, min_tv, min_radio, min_newspaper)"
      ],
      "metadata": {
        "id": "21Zj-2BU8Mff"
      },
      "execution_count": 61,
      "outputs": []
    },
    {
      "cell_type": "markdown",
      "source": [
        "## Hàm chuẩn bị data"
      ],
      "metadata": {
        "id": "Nr8DRDtN88Ic"
      }
    },
    {
      "cell_type": "code",
      "source": [
        "def prepare_data_scaling(file_name_dataset):\n",
        "  data = np.genfromtxt(file_name_dataset, delimiter= ',', skip_header=1).tolist()\n",
        "\n",
        "  # lấy dữ liệu từ cột\n",
        "  tv_data = get_column(data, 0)\n",
        "  radio_data = get_column(data, 1)\n",
        "  newspaper_data = get_column(data, 2)\n",
        "  sales_data = get_column(data,3)\n",
        "\n",
        "  (tv_data, radio_data, newspaper_data), (max_tv, max_radio, max_newspaper, min_tv, min_radio, min_newspaper) = min_max_scaling(tv_data, radio_data, newspaper_data)\n",
        "\n",
        "  # Tạo ma trận features\n",
        "  X = [[1,x2, x3, x4] for x2, x3, x4 in zip(tv_data, radio_data, newspaper_data)]\n",
        "  y = sales_data\n",
        "\n",
        "  return X, y"
      ],
      "metadata": {
        "id": "YBBjngGi9DGt"
      },
      "execution_count": 62,
      "outputs": []
    },
    {
      "cell_type": "code",
      "source": [
        "file_name = '/content/drive/MyDrive/0012. AIO 2024/004. MODULE 4/001. GIAO BÀI TẬP WEEK 1/advertising.csv'\n",
        "X, y = prepare_data_scaling(file_name)\n",
        "weights, losses = implement_linear_regression(X, y)\n",
        "print(\"Trọng số cuối cùng:\", weights)\n",
        "plt.plot(losses[:100])\n",
        "plt.xlabel(\"#iteration\")\n",
        "plt.ylabel(\"Loss\")\n",
        "plt.show()"
      ],
      "metadata": {
        "colab": {
          "base_uri": "https://localhost:8080/",
          "height": 1000
        },
        "id": "Xix3KkpX-EG2",
        "outputId": "5c259ad6-bebe-4bae-84b8-750ba8d100e8"
      },
      "execution_count": 66,
      "outputs": [
        {
          "output_type": "stream",
          "name": "stdout",
          "text": [
            "epoch:  0\n",
            "epoch:  1\n",
            "epoch:  2\n",
            "epoch:  3\n",
            "epoch:  4\n",
            "epoch:  5\n",
            "epoch:  6\n",
            "epoch:  7\n",
            "epoch:  8\n",
            "epoch:  9\n",
            "epoch:  10\n",
            "epoch:  11\n",
            "epoch:  12\n",
            "epoch:  13\n",
            "epoch:  14\n",
            "epoch:  15\n",
            "epoch:  16\n",
            "epoch:  17\n",
            "epoch:  18\n",
            "epoch:  19\n",
            "epoch:  20\n",
            "epoch:  21\n",
            "epoch:  22\n",
            "epoch:  23\n",
            "epoch:  24\n",
            "epoch:  25\n",
            "epoch:  26\n",
            "epoch:  27\n",
            "epoch:  28\n",
            "epoch:  29\n",
            "epoch:  30\n",
            "epoch:  31\n",
            "epoch:  32\n",
            "epoch:  33\n",
            "epoch:  34\n",
            "epoch:  35\n",
            "epoch:  36\n",
            "epoch:  37\n",
            "epoch:  38\n",
            "epoch:  39\n",
            "epoch:  40\n",
            "epoch:  41\n",
            "epoch:  42\n",
            "epoch:  43\n",
            "epoch:  44\n",
            "epoch:  45\n",
            "epoch:  46\n",
            "epoch:  47\n",
            "epoch:  48\n",
            "epoch:  49\n",
            "Trọng số cuối cùng: [2.589119227272405, 1.529547108193942, 1.3146371289761336, 0.7221518713155053]\n"
          ]
        },
        {
          "output_type": "display_data",
          "data": {
            "text/plain": [
              "<Figure size 640x480 with 1 Axes>"
            ],
            "image/png": "[encoded data removed]"
          },
          "metadata": {}
        }
      ]
    }
  ]
}