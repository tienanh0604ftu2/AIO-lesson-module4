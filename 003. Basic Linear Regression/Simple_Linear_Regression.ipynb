{
  "nbformat": 4,
  "nbformat_minor": 0,
  "metadata": {
    "colab": {
      "provenance": []
    },
    "kernelspec": {
      "name": "python3",
      "display_name": "Python 3"
    },
    "language_info": {
      "name": "python"
    }
  },
  "cells": [
    {
      "cell_type": "code",
      "execution_count": null,
      "metadata": {
        "id": "4wSpKJb2Kpjb"
      },
      "outputs": [],
      "source": [
        "def predict(x, w, b):\n",
        "    return x * w + b\n",
        "\n",
        "def compute_loss(y_hat, y):\n",
        "    return (y_hat - y) ** 2\n",
        "\n",
        "def compute_gradient(y_hat, y, x):\n",
        "    dw = 2 * x * (y_hat - y)\n",
        "    db = 2 * (y_hat - y)\n",
        "\n",
        "    return dw, db\n",
        "\n",
        "def update_weight(w, b, dw, db, lr):\n",
        "    new_w = w - lr * dw\n",
        "    new_b = b - lr * db\n",
        "\n",
        "    return new_w, new_b"
      ]
    },
    {
      "cell_type": "code",
      "source": [
        "x = 5\n",
        "y = 66\n",
        "\n",
        "b = 5\n",
        "w = 10\n",
        "lr = 0.01\n",
        "\n",
        "y_hat = predict(x, w, b)\n",
        "print(f'Prediction: {y_hat}')\n",
        "\n",
        "loss = compute_loss(y_hat, y)\n",
        "print(f'Loss: {loss}')\n",
        "\n",
        "dw, db = compute_gradient(y_hat, y, x)\n",
        "print(f'Gradient: dw = {dw}, db = {db}')\n",
        "\n",
        "new_w, new_b = update_weight(w, b, dw, db, lr)\n",
        "print(f'Updated weight: w = {new_w}, b = {new_b}')"
      ],
      "metadata": {
        "colab": {
          "base_uri": "https://localhost:8080/"
        },
        "id": "Fn4OG7dtOBi0",
        "outputId": "71f42cdb-3237-46d9-b7c8-eb44862aaf6f"
      },
      "execution_count": null,
      "outputs": [
        {
          "output_type": "stream",
          "name": "stdout",
          "text": [
            "Prediction: 55\n",
            "Loss: 121\n",
            "Gradient: dw = -110, db = -22\n",
            "Updated weight: w = 11.1, b = 5.22\n"
          ]
        }
      ]
    },
    {
      "cell_type": "code",
      "source": [
        "x = 5\n",
        "y = 66\n",
        "\n",
        "y_hat = predict(x, w, b)\n",
        "print(f'Prediction: {y_hat}')\n",
        "\n",
        "loss = compute_loss(y_hat, y)\n",
        "print(f'Loss: {loss}')\n",
        "\n",
        "print(f'w: {w}, b: {b}')"
      ],
      "metadata": {
        "colab": {
          "base_uri": "https://localhost:8080/"
        },
        "id": "oCytE1jZrIxV",
        "outputId": "793c1fa6-6997-4f92-ef33-f23adabcdcb3"
      },
      "execution_count": null,
      "outputs": [
        {
          "output_type": "stream",
          "name": "stdout",
          "text": [
            "Prediction: 55\n",
            "Loss: 121\n",
            "w: 10, b: 5\n"
          ]
        }
      ]
    },
    {
      "cell_type": "code",
      "source": [],
      "metadata": {
        "id": "pcWpns1mecTY"
      },
      "execution_count": null,
      "outputs": []
    },
    {
      "cell_type": "code",
      "source": [
        "X = [3, 4, 5, 6]\n",
        "y = [60, 55, 66, 93]\n",
        "\n",
        "epochs = 5\n",
        "\n",
        "b = 5\n",
        "w = 10\n",
        "lr = 0.001\n",
        "\n",
        "for epoch in range(epochs):\n",
        "    for idx in range(len(X)):\n",
        "        x = X[idx]\n",
        "        y_hat = predict(x, w, b)\n",
        "\n",
        "        loss = compute_loss(y_hat, y[idx])\n",
        "        dw, db = compute_gradient(y_hat, y[idx], x)\n",
        "        w, b = update_weight(w, b, dw, db, lr)\n",
        "\n",
        "        print(f'Epoch: {epoch}, Loss: {loss}, w: {w}, b: {b}')"
      ],
      "metadata": {
        "colab": {
          "base_uri": "https://localhost:8080/"
        },
        "id": "u3PtFjGneeVJ",
        "outputId": "23edb437-3aaf-4329-bb62-b9bf68d38376"
      },
      "execution_count": null,
      "outputs": [
        {
          "output_type": "stream",
          "name": "stdout",
          "text": [
            "Epoch: 0, Loss: 625, w: 10.15, b: 5.05\n",
            "Epoch: 0, Loss: 87.42250000000003, w: 10.2248, b: 5.0687\n",
            "Epoch: 0, Loss: 96.18313328999996, w: 10.322873, b: 5.0883145999999995\n",
            "Epoch: 0, Loss: 674.671917735367, w: 10.6345663688, b: 5.140263494799999\n",
            "Epoch: 1, Loss: 526.9796530551046, w: 10.7723025931928, b: 5.186175569597599\n",
            "Epoch: 1, Loss: 45.22043422409116, w: 10.826099505653849, b: 5.199624797712861\n",
            "Epoch: 1, Loss: 44.48726818636239, w: 10.892798282394027, b: 5.212964553060897\n",
            "Epoch: 1, Loss: 503.1159245209058, w: 11.161961231424927, b: 5.257825044566047\n",
            "Epoch: 2, Loss: 451.8299181792317, w: 11.289498978991881, b: 5.300337627088366\n",
            "Epoch: 2, Loss: 20.626734206131236, w: 11.325832310647435, b: 5.309420960002254\n",
            "Epoch: 2, Loss: 16.495112001764532, w: 11.366446485515041, b: 5.317543794975775\n",
            "Epoch: 2, Loss: 379.617577561682, w: 11.600251813018248, b: 5.356511349559643\n",
            "Epoch: 3, Loss: 393.73406129822536, w: 11.719308212286561, b: 5.396196815982414\n",
            "Epoch: 3, Loss: 7.434185791000412, w: 11.741120774965532, b: 5.4016499566521565\n",
            "Epoch: 3, Loss: 3.5824880584478613, w: 11.760048236650734, b: 5.405435448989197\n",
            "Epoch: 3, Loss: 290.1665292422299, w: 11.96445953822401, b: 5.43950399925141\n",
            "Epoch: 4, Loss: 348.46127150556185, w: 12.07646224254047, b: 5.476838234023563\n",
            "Epoch: 4, Loss: 1.4818504428538535, w: 12.086200744906987, b: 5.479272859615192\n",
            "Epoch: 4, Loss: 0.008050291351769556, w: 12.087097979065486, b: 5.479452306446892\n",
            "Epoch: 4, Loss: 224.93879873714388, w: 12.267073496895408, b: 5.509448226085213\n"
          ]
        }
      ]
    },
    {
      "cell_type": "code",
      "source": [],
      "metadata": {
        "id": "r61IjsJmfs-q"
      },
      "execution_count": null,
      "outputs": []
    },
    {
      "cell_type": "code",
      "source": [
        "x = 5\n",
        "y = 66\n",
        "\n",
        "y_hat = predict(x, w, b)\n",
        "print(f'Prediction: {y_hat}')\n",
        "\n",
        "loss = compute_loss(y_hat, y)\n",
        "print(f'Loss: {loss}')\n",
        "\n",
        "print(f'w: {w}, b: {b}')"
      ],
      "metadata": {
        "colab": {
          "base_uri": "https://localhost:8080/"
        },
        "id": "n6ckq7cGftBM",
        "outputId": "414e9349-469c-45c5-ced4-8f3f1ca17624"
      },
      "execution_count": null,
      "outputs": [
        {
          "output_type": "stream",
          "name": "stdout",
          "text": [
            "Prediction: 66.84481571056226\n",
            "Loss: 0.7137135848128137\n",
            "w: 12.267073496895408, b: 5.509448226085213\n"
          ]
        }
      ]
    }
  ]
}